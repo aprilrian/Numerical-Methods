{
 "cells": [
  {
   "cell_type": "code",
   "execution_count": 2,
   "metadata": {},
   "outputs": [
    {
     "name": "stdout",
     "output_type": "stream",
     "text": [
      "r = [0.73908513]\n",
      "hasil= [0.]\n"
     ]
    }
   ],
   "source": [
    "import numpy as np \n",
    "from scipy import optimize \n",
    "\n",
    "f = lambda x: np.cos(x) - x \n",
    "r = optimize.fsolve(f, -2) \n",
    "print(\"r =\", r) \n",
    "\n",
    "# Verifikasi solusi adalah akar\n",
    "hasil = f(r)\n",
    "print(\"hasil=\", hasil)"
   ]
  }
 ],
 "metadata": {
  "kernelspec": {
   "display_name": "Python 3.10.0 64-bit",
   "language": "python",
   "name": "python3"
  },
  "language_info": {
   "codemirror_mode": {
    "name": "ipython",
    "version": 3
   },
   "file_extension": ".py",
   "mimetype": "text/x-python",
   "name": "python",
   "nbconvert_exporter": "python",
   "pygments_lexer": "ipython3",
   "version": "3.10.7"
  },
  "orig_nbformat": 4,
  "vscode": {
   "interpreter": {
    "hash": "6955ff0dc1e32296b2f20779412f324840d7a63234a13098188f3587c913821f"
   }
  }
 },
 "nbformat": 4,
 "nbformat_minor": 2
}
