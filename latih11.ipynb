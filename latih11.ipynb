{
 "cells": [
  {
   "cell_type": "code",
   "execution_count": 1,
   "metadata": {},
   "outputs": [
    {
     "name": "stdout",
     "output_type": "stream",
     "text": [
      "Hasil Metode Gauss Eliminasi\n",
      "[4 3 3]\n"
     ]
    }
   ],
   "source": [
    "## module gaussElimin\n",
    "\"\"\" x = gaussElimin(a,b).\n",
    "Solves [a]{b} = {x} by Gauss elimination.\n",
    "\"\"\"\n",
    "import numpy as np\n",
    "def gaussElimin(a,b):\n",
    "    n = len(b)\n",
    "    \n",
    "# Elimination Phase\n",
    "    for k in range(0,n-1):\n",
    "        for i in range(k+1,n):\n",
    "            if a[i,k] != 0.0:\n",
    "                lam = a [i,k]/a[k,k]\n",
    "                a[i,k+1:n] = a[i,k+1:n] - lam*a[k,k+1:n]\n",
    "                b[i] = b[i] - lam*b[k]\n",
    "            \n",
    "# Back substitution\n",
    "    for k in range(n-1,-1,-1):\n",
    "        b[k] = (b[k] - np.dot(a[k,k+1:n],b[k+1:n]))/a[k,k]\n",
    "        \n",
    "    return b\n",
    "\n",
    "a = np.array([[4,1,-1], [1,3,1], [2,-1,-2]])\n",
    "b = np.array([12,18,-3])\n",
    "\n",
    "print(\"Hasil Metode Gauss Eliminasi\")\n",
    "print(gaussElimin(a,b))"
   ]
  },
  {
   "cell_type": "code",
   "execution_count": 2,
   "metadata": {},
   "outputs": [
    {
     "name": "stdout",
     "output_type": "stream",
     "text": [
      "\n",
      "\n",
      "\n",
      " Eliminiasi gauss\n",
      " [[  4.   1.  -1.  12.]\n",
      " [  0. -11.  -5. -60.]\n",
      " [  2.  -1.  -2.  -3.]]\n",
      "\n",
      " Eliminiasi gauss\n",
      " [[  4.   1.  -1.  12.]\n",
      " [  0. -11.  -5. -60.]\n",
      " [  0.   3.   3.  18.]]\n",
      "\n",
      " Eliminiasi gauss\n",
      " [[  4.   1.  -1.  12.]\n",
      " [  0. -11.  -5. -60.]\n",
      " [  0.   0.   6.   6.]]\n",
      "None\n",
      "\n",
      " Subtitusi\n",
      " [[ 1. -0.  0.  2.]\n",
      " [-0.  1. -0.  5.]\n",
      " [ 0.  0.  1.  1.]]\n",
      "\n",
      " Hasil \n",
      " [2. 5. 1.]\n",
      "None\n"
     ]
    }
   ],
   "source": [
    "import numpy as np\n",
    "#Iterasi Persamaan Gaus\n",
    "# Membuat nilai nol dibawah diagonal matriks\n",
    "def GEBS(A,B):\n",
    "  n = len(B) # n berfungsi untuk mengembalikan panjang B\n",
    "  for k in range(0,n-1): #iterasi dari 0 sampai nilai n-1 \n",
    "    for i in range(k+1,n): #iterasi dari K+1 sampai nilai n\n",
    "      if A[i,k] != 0.0:\n",
    "        X = AB[k,k] / AB[i,k] #mencari pembagi untuk baris ke-i\n",
    "        AB[i] = AB[k] - X*AB[i] #operasi perhitungan\n",
    "        print(\"\\n Eliminiasi gauss\\n\", AB)\n",
    "\n",
    "#Iterasi Subtitusi\n",
    "# Mencari nilai setiap variabel \n",
    "def subs(A,B):\n",
    "  n = len(B) # n berfungsi untuk mengembalikan panjang B\n",
    "  for k in range(n-1,-1,-1): #iterasi elemen matriks dari n-1 sampai -1\n",
    "    AB[k] = AB[k] /AB[k,k] \n",
    "    for i in range (k-1, -1,-1): #iterasi untuk mendapatkan penyelesaiannya\n",
    "      X = AB[k,k] / AB[i,k]\n",
    "      AB[i] = AB[k] - X*AB[i] \n",
    "  print(\"\\n Subtitusi\\n\", AB)     \n",
    "  Hasil= AB[:,3]\n",
    "  print(\"\\n Hasil \\n\", Hasil)\n",
    "  \n",
    "A = np.array([[4,1,-1],\n",
    "              [1,3,1],\n",
    "              [2,-1,-2]], float\n",
    ")\n",
    "\n",
    "B = np.array([[12],\n",
    "              [18],\n",
    "              [-3]], float\n",
    ")\n",
    "\n",
    "AB = np.hstack([A,B])   # berfungsi untuk menggabung matriks A dan B \n",
    "print(\"\\n\")\n",
    "print(GEBS(A,B))\n",
    "print(subs(A,B))"
   ]
  }
 ],
 "metadata": {
  "kernelspec": {
   "display_name": "Python 3.10.7 64-bit",
   "language": "python",
   "name": "python3"
  },
  "language_info": {
   "codemirror_mode": {
    "name": "ipython",
    "version": 3
   },
   "file_extension": ".py",
   "mimetype": "text/x-python",
   "name": "python",
   "nbconvert_exporter": "python",
   "pygments_lexer": "ipython3",
   "version": "3.10.7"
  },
  "orig_nbformat": 4,
  "vscode": {
   "interpreter": {
    "hash": "6955ff0dc1e32296b2f20779412f324840d7a63234a13098188f3587c913821f"
   }
  }
 },
 "nbformat": 4,
 "nbformat_minor": 2
}
