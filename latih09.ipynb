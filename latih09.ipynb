{
 "cells": [
  {
   "cell_type": "code",
   "execution_count": 1,
   "metadata": {},
   "outputs": [
    {
     "name": "stdout",
     "output_type": "stream",
     "text": [
      "1.9835235375094546\n",
      "0.01647646249054535\n"
     ]
    }
   ],
   "source": [
    "# Integrasi Numerik dengan Metode Trapesium \n",
    "import numpy as np \n",
    "\n",
    "a = 0 \n",
    "b = np.pi \n",
    "n = 11 \n",
    "h = (b - a) / (n - 1) \n",
    "x = np.linspace(a, b, n) \n",
    "f = np.sin(x) \n",
    " \n",
    "I_trap = (h/2)*(f[0] + 2 * sum(f[1:n-1]) + f[n-1]) \n",
    "err_trap = 2 - I_trap  \n",
    "\n",
    "print(I_trap) \n",
    "print(err_trap) "
   ]
  }
 ],
 "metadata": {
  "kernelspec": {
   "display_name": "Python 3.10.7 64-bit",
   "language": "python",
   "name": "python3"
  },
  "language_info": {
   "codemirror_mode": {
    "name": "ipython",
    "version": 3
   },
   "file_extension": ".py",
   "mimetype": "text/x-python",
   "name": "python",
   "nbconvert_exporter": "python",
   "pygments_lexer": "ipython3",
   "version": "3.10.7"
  },
  "orig_nbformat": 4,
  "vscode": {
   "interpreter": {
    "hash": "6955ff0dc1e32296b2f20779412f324840d7a63234a13098188f3587c913821f"
   }
  }
 },
 "nbformat": 4,
 "nbformat_minor": 2
}
