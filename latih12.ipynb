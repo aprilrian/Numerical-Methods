{
 "cells": [
  {
   "cell_type": "code",
   "execution_count": 1,
   "metadata": {},
   "outputs": [
    {
     "name": "stdout",
     "output_type": "stream",
     "text": [
      "Hasil Metode Gauss Seidel\n",
      "x =  [ 2.61666667 -2.79452381  7.00560952]\n",
      "xold =  [0. 0. 0.]\n",
      "error = [2.61666667 2.79452381 7.00560952]\n",
      "\n",
      "\n",
      "x =  [ 2.99055651 -2.49962468  7.00029081]\n",
      "xold =  [ 2.61666667 -2.79452381  7.00560952]\n",
      "error = [0.37388984 0.29489912 0.00531871]\n",
      "\n",
      "\n",
      "x =  [ 3.0000319  -2.49998799  6.99999928]\n",
      "xold =  [ 2.99055651 -2.49962468  7.00029081]\n",
      "error = [0.00947539 0.00036331 0.00029153]\n",
      "\n",
      "\n",
      "x =  [ 3.00000035 -2.50000004  6.99999999]\n",
      "xold =  [ 3.0000319  -2.49998799  6.99999928]\n",
      "None\n"
     ]
    }
   ],
   "source": [
    "## module gaussSeidel\n",
    "\"\"\" x = gaussSeidel(a,b).\n",
    "Menyelesaikan [a]{b} = {x} dengan Eliminasi Gauss Seidel .\n",
    "\"\"\"\n",
    "import numpy as np\n",
    "def gaussSeidel(a,b):\n",
    "    n = len(b)\n",
    "    x = np.zeros(n)\n",
    "    tol = 0.0001\n",
    "    temp = 0\n",
    "    \n",
    "    xold = np.copy(x)\n",
    "    for i in range(n):\n",
    "        for j in range(n):\n",
    "            if j != i:\n",
    "                temp+=a[i,j]*x[j]\n",
    "        x[i]=(1/a[i,i])*(b[i]-temp)\n",
    "        temp = 0\n",
    "        \n",
    "    print(\"x = \", x)\n",
    "    print(\"xold = \", xold)\n",
    "    while (abs(x[0]-xold[0])> tol):\n",
    "        print(\"error =\", abs(x-xold))\n",
    "        print(\"\\n\")\n",
    "        xold = x.copy()\n",
    "        for i in range (n):\n",
    "            for j in range (n):\n",
    "                if j != i:\n",
    "                    temp+=a[i,j]*x[j]\n",
    "            x[i]=(1/a[i,i])*(b[i]-temp)\n",
    "            temp = 0\n",
    "        print(\"x = \", x)\n",
    "        print(\"xold = \", xold)\n",
    "        \n",
    "a = np.array([[3,-0.1, -0.2], [0.1, 7.0, -0.3], [0.3, -0.2, 10]])\n",
    "b = np.array([7.85, -19.3, 71.4])\n",
    "print(\"Hasil Metode Gauss Seidel\")\n",
    "print(gaussSeidel(a,b))"
   ]
  }
 ],
 "metadata": {
  "kernelspec": {
   "display_name": "Python 3.10.7 64-bit",
   "language": "python",
   "name": "python3"
  },
  "language_info": {
   "codemirror_mode": {
    "name": "ipython",
    "version": 3
   },
   "file_extension": ".py",
   "mimetype": "text/x-python",
   "name": "python",
   "nbconvert_exporter": "python",
   "pygments_lexer": "ipython3",
   "version": "3.10.7"
  },
  "orig_nbformat": 4,
  "vscode": {
   "interpreter": {
    "hash": "6955ff0dc1e32296b2f20779412f324840d7a63234a13098188f3587c913821f"
   }
  }
 },
 "nbformat": 4,
 "nbformat_minor": 2
}
